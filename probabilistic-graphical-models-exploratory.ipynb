{
 "cells": [
  {
   "cell_type": "markdown",
   "metadata": {
    "Collapsed": "false"
   },
   "source": [
    "# Probabilistic Graphical Models — Exploratory Notebook\n",
    "\n",
    "This notebook contains worked examples and exploratory experiments illustrating conditional independence, model complexity, and inference in Bayesian networks and related probabilistic models."
   ]
  },
  {
   "cell_type": "markdown",
   "metadata": {
    "Collapsed": "false"
   },
   "source": [
    "## Section 1 — Conditional Independence\n",
    "\n",
    "Consider the following Bayes net:\n",
    "\n",
    "![3-node-graph](bayesnet-5node.jpeg)"
   ]
  },
  {
   "cell_type": "markdown",
   "metadata": {
    "Collapsed": "false"
   },
   "source": [
    "### 1.1 Show that $a$ is independent of $b$ given no other information, i.e.\n",
    "$$\n",
    "a \\perp b\\, |\\, \\varnothing\n",
    "$$"
   ]
  },
  {
   "cell_type": "markdown",
   "metadata": {},
   "source": [
    "#### 1.1 Solution\n",
    "Let's start with what we want: \n",
    "$$\n",
    "a \\perp b = p(a,b) = p(a) \\cdot p(b) \\tag{1}\n",
    "$$\n",
    "\n",
    "Now, we can derive the equation in (1) by using the structure of the network:\n",
    "\n",
    "$$\n",
    "p(a,b) = \\sum_{c,d,e} p(c | a,b) \\cdot p(d|c) \\cdot p(e|c) \\cdot \\mathbf{p(a) \\cdot p(b)} \\tag{2}\n",
    "$$\n",
    "\n",
    "Realized that the bold part of the equation (2) does not depend on either c,d or e. Therefore, we can rewrite the equation (2) as:\n",
    "\n",
    "$$\n",
    "p(a,b) = p(a) \\cdot p(b) \\mathbf{\\sum_{c,d,e} p(c | a,b) \\cdot p(d|c) \\cdot p(e|c)} \\tag{3}\n",
    "$$\n",
    "\n",
    "Let's rearrange the bold part in the equation (3):\n",
    "\n",
    "$$\n",
    "    \\sum_c p(c | a, b) \\sum_d p(d | c) \\sum_e p(e | c) \\tag{4}    \n",
    "$$\n",
    "\n",
    "Since $ p(d | c) $ is a valid probability distribution over $ d $, we can say this:\n",
    "  \n",
    "$$\n",
    "  \\sum_d p(d | c) = 1 \\tag{5}    \n",
    "$$\n",
    "\n",
    "Since $ p(e | c) $ is a valid probability distribution over $ e $, we can say this:\n",
    "\n",
    "$$\n",
    "  \\sum_e p(e | c) = 1 \\tag{6}    \n",
    "$$\n",
    "\n",
    "Thus, their product simplifies:\n",
    "\n",
    "$$\n",
    "\\sum_d p(d | c) \\sum_e p(e | c) = 1 \\tag{7}    \n",
    "$$\n",
    "\n",
    "So our the bold summation in equation (3) reduces to:\n",
    "\n",
    "$$\n",
    "\\sum_c p(c | a, b) \\cdot 1 = \\sum_c p(c | a, b) \\tag{8}    \n",
    "$$\n",
    "\n",
    "Since $ p(c | a, b)$ is a valid probability distribution over $ c $, we can say this:\n",
    "\n",
    "$$\n",
    "\\sum_{c,d,e} p(c | a,b) \\cdot p(d|c) \\cdot p(e|c)= \\sum_c p(c | a, b) = 1 \\tag{9}    \n",
    "$$\n",
    "\n",
    "If we put equation (9) into equation (3), we will get:\n",
    "\n",
    "$$\n",
    "p(a,b) = p(a) \\cdot p(b) \\cdot 1  =  p(a) \\cdot p(b) \\tag{10}\n",
    "$$\n",
    "\n",
    "So, in this way, we showed that equation (1) holds."
   ]
  },
  {
   "cell_type": "markdown",
   "metadata": {},
   "source": [
    "#### 1.2 Prove or disprove the following using basic probability (not using d-separation)"
   ]
  },
  {
   "cell_type": "markdown",
   "metadata": {},
   "source": [
    "#### 1.2 Solution\n",
    "We want to check if $a$ is independent of $b$ given $e$:\n",
    "$$\n",
    "a \\perp b | e = p(a,b|e) = p(a|e) \\cdot p(b|e) \\tag{11}\n",
    "$$\n",
    "\n",
    "We know that the conditional probability can be written in terms of the joint probability as in the following:\n",
    "$$\n",
    "p(a,b|e) = \\frac{p(a,b,e)}{p(e)} = \\frac{\\sum_{c,d} \\mathbf{p(a,b,c,d,e)}}{p(e)} \\tag{12}\n",
    "$$\n",
    "\n",
    "Now, we can derive the bold part of equation in (12) by using the structure of the network:\n",
    "$$\n",
    "\\frac{\\sum_{c,d}  p(c | a,b) \\cdot p(d|c) \\cdot p(e|c) \\cdot \\mathbf{p(a) \\cdot p(b)}}{p(e)} \\tag{13}\n",
    "$$\n",
    "\n",
    "Realize that the bold part of the equation (13) is not affected by either $c$ or $d$. Therefore, it can be written outside of the equation:\n",
    "$$\n",
    "\\frac{p(a) \\cdot p(b)}{p(e)} \\cdot \\sum_{c,d}  p(c | a,b) \\cdot p(d|c) \\cdot p(e|c)\\tag{14}\n",
    "$$\n",
    "\n",
    "If we rearrange the summation of equation in (14), by using the fact in equation (5) of the previous question, our finalized version will be:\n",
    "$$\n",
    "\\frac{p(a) \\cdot p(b)}{p(e)} \\cdot \\sum_{c,d}  p(c | a,b) \\cdot p(e|c)\\tag{15}\n",
    "$$\n",
    "\n",
    "The term in the equation (15) $\\sum_{c} p(c | a, b) p(e | c)$ depends on both $a$ and $b$ in a way that cannot be separated. This means that $p(a, b | e)$ retains a joint dependence on $a$ and $b$ through this term, and it cannot be factored into $p(a | e) p(b | e)$. Therefore, we disproved the $a \\perp b\\, |\\, e$ for this network structure."
   ]
  },
  {
   "cell_type": "markdown",
   "metadata": {},
   "source": [
    "### Section 2. Conditional Independence and Causality\n",
    "\n",
    "Now consider a 3-node Bayes Net:\n",
    "\n",
    "![bayesnet.jpeg](bayesnet-3node.jpeg)\n",
    "\n",
    "Show that this causal relationship suggested by the arrows does not necessarily hold, because the identical distribution can be represented by a model defined by different conditional distributions. What conditional independence assumption does this model make?"
   ]
  },
  {
   "cell_type": "markdown",
   "metadata": {},
   "source": [
    "#### Solution\n",
    "The causal diagram suggests that $a$ influences both $b$ and $c$, leading to the factorization:\n",
    "$$\n",
    "p(a, b, c) = p(a) p(b | a) p(c | a) \\tag{16}\n",
    "$$\n",
    "However, the same joint distribution could also be represented differently, for example if $b$ and $c$ are conditionally independent such as:\n",
    "$$\n",
    "p(a, b, c) = p(a) p(b, c |a) \\\\\n",
    "p(a , b , c )= p(a) \\frac{p(a|b,c) p(b,c)}{p(a)}\\\\\n",
    "    = p(a|b,c) p(b,c) \\\\\n",
    "p(a, b, c) = p(b) p(c) p(a | b, c) \\tag{17}\n",
    "$$\n",
    "This shows that the same joint distribution can be represented by different factorizations, and the arrows in the graph do not uniquely determine the causal structure. The conditional independence assumption made by the original model is that $b$ and $c$ are independent given $a$:\n",
    "$$\n",
    "b \\perp c \\mid a\n",
    "$$"
   ]
  },
  {
   "cell_type": "markdown",
   "metadata": {},
   "source": [
    "## Section 3 — Model Complexity, Free Parameters, and Simplifying Assumptions\n"
   ]
  },
  {
   "cell_type": "markdown",
   "metadata": {},
   "source": [
    "### 3.1 Consider a general joint probability distribution with $N$ variables $x_1 \\ldots x_N$ each of which can have $K$ values. What is the expression for the joint distribution in terms of conditional probabilities?"
   ]
  },
  {
   "cell_type": "markdown",
   "metadata": {},
   "source": [
    "### 3.2 What is the total number of free parameters required to specify this model? (A \"free parameter\" is unconstrained; e.g., a Bernoulli distribution has one free parameter $\\theta$ for the probability of heads, since the probability of tails is $1-\\theta$.) Provide both the exact expression and a simpler one in big-O notation."
   ]
  },
  {
   "cell_type": "markdown",
   "metadata": {},
   "source": [
    "### 3.2 Solution\n",
    "In order to specify the model in equation (20), let's first consider the number of free parameters for each conditional probability. Each conditional probability is defined as:\n",
    "$$\n",
    "p(x_i | x_1,  \\ldots, x_{i-1}) \\tag{21}\n",
    "$$\n",
    "This probability depends on $x_1, x_2, ... , x_{i-1}$ variables. Each of these variables can take $K$ different values. Therefore, for the expression in (21), there are $K^{i-1}$ possible combinations. Since the probabilities for one variable $x_k$ must sum to 1, there are $K-1$ free parameters for $x_k$. For each conditional probability $i$ in equation (20), we have $(K-1) \\cdot (K)^{i-1}$. Since we have $N$ variables, the total is:\n",
    "$$\n",
    "\\sum_{i=1}^N (K-1)\\cdot K^{i-1} = (K-1)\\cdot\\sum_{i=1}^N  K^{i-1} \\\\\n",
    "=K^N -1\\tag{22}\n",
    "$$\n",
    "In big-O notation:\n",
    "$$O(K^N)$$"
   ]
  },
  {
   "cell_type": "markdown",
   "metadata": {},
   "source": [
    "##### Solution:\n",
    "In order to specify the model in equation (20), let's first consider the number of free parameters for each conditional probability. Each conditional probability is defined as:\n",
    "$$\n",
    "p(x_i | x_1,  \\ldots, x_{i-1}) \\tag{21}\n",
    "$$\n",
    "This probability depends on $x_1, x_2, ... , x_{i-1}$ variables. Each of these variables can take $K$ different values. Therefore, for the expression in (21), there are $K^{i-1}$ possible combinations. Since the probabilities for one variable $x_k$ must sum to 1, there are $K-1$ free parameters for $x_k$. For each conditional probability $i$ in equation (20), we have $(K-1) \\cdot (K)^{i-1}$. Since we have $N$ variables, the total is:\n",
    "$$\n",
    "\\sum_{i=1}^N (K-1)\\cdot K^{i-1} = (K-1)\\cdot\\sum_{i=1}^N  K^{i-1} \\\\\n",
    "=K^N -1\\tag{22}\n",
    "$$\n",
    "In big-O notation:\n",
    "$$O(K^N)$$"
   ]
  },
  {
   "cell_type": "markdown",
   "metadata": {},
   "source": [
    "### 3.3 Now suppose the model complexity is constrained so that each (non-root) variable depends on at most $m$ other variables and is conditionally independent of the rest (i.e., a Bayes net). Assume there are $m$ root nodes and each non-root node has $m$ parents. How many parameters are required to define this model?"
   ]
  },
  {
   "cell_type": "markdown",
   "metadata": {},
   "source": [
    "### 3.3 Solution\n",
    "Let $m$ be the number of root nodes, and the rest are non-root nodes. The full joint probability for this setting is:\n",
    "$$\n",
    "p(x_1,x_2, ... x_N) = \\prod_{i =1}^m p(x_i) \\cdot \\prod_{j=m+1}^{N} p(x_j | \\text{parents})  \\tag{23}\n",
    "$$\n",
    "The root nodes have no parents, so their conditional probabilities require:\n",
    "$$\n",
    "m \\cdot (K-1) \\tag{24}\n",
    "$$\n",
    "For each non-root node, there are $K^m$ possible parent configurations, and $K-1$ free parameters for each:\n",
    "$$\n",
    "K^m \\cdot (K-1)  \\tag{25}\n",
    "$$\n",
    "With $N-m$ non-root nodes, the total is:\n",
    "$$\n",
    "(N-m)\\cdot K^m \\cdot (K-1)  \\tag{26}\n",
    "$$\n",
    "Summing (24) and (26):\n",
    "$$\n",
    "m \\cdot (K-1) + (N-m)\\cdot K^m \\cdot (K-1)  = (K-1) (m + (N-m) \\cdot K^m) \\tag{27}\n",
    "$$\n",
    "In big-O notation:\n",
    "$$O(N K^m)$$"
   ]
  },
  {
   "cell_type": "markdown",
   "metadata": {},
   "source": [
    "### 3.4 Now, suppose we make one more simplifying assumption: in addition to depending on only $m$ variables, the conditional probability is described by a noisy-OR function ($K=2$, see Section 4). What is the expression for the number of parameters in this case?"
   ]
  },
  {
   "cell_type": "markdown",
   "metadata": {},
   "source": [
    "### 3.4 Solution\n",
    "When $K=2$, the root nodes do not have parents. Therefore, the total number of free parameters for the root nodes is:\n",
    "$$\n",
    "m \\cdot (K-1) = m \\cdot 1 = m \\tag{28}\n",
    "$$\n",
    "With the noisy-OR, we only need $m$ parameters per non-root node (one per parent), so for $N-m$ non-root nodes:\n",
    "$$\n",
    "(N-m) \\cdot m \\tag{29}\n",
    "$$\n",
    "In total, including the root nodes:\n",
    "$$\n",
    "m + (N-m)m = Nm - m^2 + m \\tag{30}\n",
    "$$\n",
    "So, for $K=2$, the number of free parameters is $Nm - m^2 + m$."
   ]
  },
  {
   "cell_type": "markdown",
   "metadata": {
    "Collapsed": "false"
   },
   "source": [
    "## Section 4 — Models of Conditional Probability\n",
    "\n",
    "In Bayesian networks (or directed acyclic graphical models), the joint probability distribution is factored into the product of conditional probability distributions:\n",
    "\n",
    "$$\n",
    "p(x) = \\prod_{i=1}^N p(x_i|\\textrm{pa}(x_i))\n",
    "$$"
   ]
  },
  {
   "cell_type": "markdown",
   "metadata": {
    "Collapsed": "false"
   },
   "source": [
    "A common simplifying assumption for the conditional probability is the noisy-OR model:\n",
    "\n",
    "$$\n",
    "p(x_i | \\textrm{pa}({x_i})) = 1 - (1 - \\mu_{i0}) \\prod_{j \\in \\textrm{pa}(x_i)}(1 - \\mu_{ij})^{x_j}\n",
    "$$\n",
    "\n",
    "where $j$ is an index over the parents of $x_i$. The exponent $x_j$ is either 0 or 1, so the term is either 1 or $1-\\mu_{ij}$ depending on the state of the parent $x_j$."
   ]
  },
  {
   "cell_type": "markdown",
   "metadata": {
    "Collapsed": "false"
   },
   "source": [
    "### 4.1 Show that the noisy-OR function can be interpreted as a \"soft\" (probabilistic) form of the logical OR function, i.e., the function gives $x_i = 1$ whenever at least one of the parents is 1."
   ]
  },
  {
   "cell_type": "markdown",
   "metadata": {},
   "source": [
    "#### 4.1 Solution\n",
    "Let's look at the scenario when $\\mu_{i0}= 0$ and $\\mu_{ij} = 1$. The conditional probability becomes:\n",
    "$$\n",
    "p(x_i | \\textrm{pa}({x_i})) = 1 -  \\prod_{j \\in \\textrm{pa}(x_i)}(0)^{x_j} \\tag{31}\n",
    "$$\n",
    "Now, consider the possible values of the parent variables:\n",
    "- If all $x_j$ are 0:\n",
    "  $$\n",
    "      p(x_i | \\textrm{pa}({x_i})) = 1 - (0)^{0} \\cdot (0)^{0} \\cdot \\ldots = 1 - 1 = 0\n",
    "  $$\n",
    "- If any $x_j$ is 1:\n",
    "  $$\n",
    "      p(x_i | \\textrm{pa}({x_i})) = 1 - 0 \\cdot 1 \\cdot \\ldots = 1 - 0 = 1\n",
    "  $$\n",
    "Thus, when $\\mu_{i0} \\approx 0$ and $\\mu_{ij} \\approx 1$, the noisy-OR function behaves like a soft version of the logical OR: the output is 1 if any parent is 1, and 0 only if all parents are 0."
   ]
  },
  {
   "cell_type": "markdown",
   "metadata": {},
   "source": [
    "### 4.2 What is the interpretation of $\\mu_{i0}$? Provide a clear explanation."
   ]
  },
  {
   "cell_type": "markdown",
   "metadata": {},
   "source": [
    "#### 4.2 Solution\n",
    "We can interpret $\\mu_{i0}$ by considering the case when $x_i = 1$ but all its parents are 0 ($pa(x_i)= 0 $):\n",
    "$$\n",
    "p(x_i = 1| \\textrm{pa}({x_i}) = 0) = 1 - (1 - \\mu_{i0}) \\prod_{j \\in \\textrm{pa}(x_i)}1 = 1 - (1 - \\mu_{i0}) = \\mu_{i0}\n",
    "$$\n",
    "So, $\\mu_{i0}$ is the probability that the effect occurs ($x_i = 1$) when there is no cause ($pa(x_i) = 0$). In other words, $\\mu_{i0}$ is the baseline probability that $x_i$ happens even if none of its parent nodes are active."
   ]
  },
  {
   "cell_type": "markdown",
   "metadata": {
    "Collapsed": "false"
   },
   "source": [
    "Another choice for the conditional probability is a sigmoid function:\n",
    "\n",
    "$$\n",
    "p(x_i | \\textrm{pa}({x_i})) = \\sigma\\left(w_{i0} + \\sum_{j \\in \\textrm{pa}(x_i)} w_{ij} x_j\\right), \\quad \\sigma(a) = \\frac{1}{1+e^{-a}}\n",
    "$$\n",
    "\n",
    "where $\\sigma(a)$ is the logistic sigmoid function."
   ]
  },
  {
   "cell_type": "markdown",
   "metadata": {
    "Collapsed": "false"
   },
   "source": [
    "### 4.3 Contrast the noisy-OR function and the sigmoid mathematically. Is one more general than the other? Can each compute unique functions?"
   ]
  },
  {
   "cell_type": "markdown",
   "metadata": {},
   "source": [
    "#### 4.3 Solution\n",
    "**Mathematical Contrast**\n",
    "\n",
    "**Noisy-OR function:**\n",
    "$$\n",
    "p(x_i | \\textrm{pa}({x_i})) = 1 - (1 - \\mu_{i0}) \\prod_{j \\in \\textrm{pa}(x_i)}(1 - \\mu_{ij})^{x_j} \\tag{37}\n",
    "$$\n",
    "- Parents can only activate, not inhibit (only positive influences). Effects are multiplied, and each parent has an independent contribution.\n",
    "\n",
    "**Sigmoid function:**\n",
    "$$\n",
    "p(x_i | \\textrm{pa}({x_i})) = \\sigma \\left( w_{i0} + \\sum_{j \\in \\textrm{pa}(x_i)} w_{ij} x_j \\right), \\quad \\sigma(a) = \\frac{1}{1+e^{-a}} \\tag{38}\n",
    "$$\n",
    "- Parents' effects are added before applying the non-linearity. Parents can have both excitatory and inhibitory effects (weights can be positive or negative).\n",
    "\n",
    "**Generality:**\n",
    "The sigmoid function is more general than Noisy-OR. It can approximate Noisy-OR by choosing large positive weights, but also allows negative weights (inhibitory effects). Noisy-OR is a special case of sigmoid when only positive influences are present and effects are independent.\n",
    "\n",
    "For small $\\mu_{ij}$, $1 - \\mu_{ij} \\approx e^{-\\mu_{ij}}$, so:\n",
    "$$\n",
    "p(x_i | \\textrm{pa}(x_i)) \\approx 1 - e^{-\\sum_{j \\in \\textrm{pa}(x_i)} \\mu_{ij} x_j} \\tag{40}\n",
    "$$\n",
    "By choosing $w_{i0} \\to -\\infty$ and $w_{ij} = c \\mu_{ij}$ for large $c > 0$, the sigmoid can approximate this form. Thus, sigmoid is a superset of Noisy-OR."
   ]
  },
  {
   "cell_type": "markdown",
   "metadata": {
    "Collapsed": "false"
   },
   "source": [
    "## Section 5 — Car Troubles: Probabilistic Diagnosis\n",
    "\n",
    "This section explores probabilistic reasoning and diagnosis in a car starting scenario, using a Bayesian network model for the car's components and their dependencies."
   ]
  },
  {
   "cell_type": "markdown",
   "metadata": {
    "Collapsed": "false"
   },
   "source": [
    "![Car Troubles Bayesian Network](car-troubles-graph.jpeg)\n",
    "![Component Probabilities](car-troubles-probabilities.jpg)"
   ]
  },
  {
   "cell_type": "markdown",
   "metadata": {
    "Collapsed": "false"
   },
   "source": [
    "### 5.1 Calculate $p(f=\\textsf{empty} | s=\\textsf{no})$, the probability of the fuel tank being empty given that the car does not start. Show your work using the probabilities given in the model."
   ]
  },
  {
   "cell_type": "markdown",
   "metadata": {},
   "source": [
    "#### 5.1 Solution\n",
    "$$\n",
    "p(f = empty | s = no) = \\frac{p(f=empty, s = no)}{p(s= no)} \\tag{40}\n",
    "$$\n",
    "\n",
    "$$\n",
    "= \\frac{\\sum_{b, g ,t} p(f=empty, s = no, b,g,t)}{\\sum_{f , b , g , t } p(f, s = no, b,g,t)} \\tag{41}\n",
    "$$\n",
    "\n",
    "By using the structure of the graph, we can rewrite (41) as:\n",
    "$$\n",
    " = \\frac{\\sum_{b, g ,t} p(g| b, f=empty) \\cdot p(s=no | f=empty, t) \\cdot p(t|b) \\cdot p(f=empty) \\cdot p(b) }{\\sum_{f , b , g , t } p(g| b, f) \\cdot p(s=no | f, t) \\cdot p(t|b) \\cdot p(f) \\cdot p(b)} \\tag{42}\n",
    "$$\n",
    "$$\n",
    " = \\frac{p(f=empty) \\cdot \\sum_{b, g ,t} p(g| b, f=empty) \\cdot p(s=no | f=empty, t) \\cdot p(t|b) \\cdot  p(b) }{\\sum_{f , b , g , t } p(g| b, f) \\cdot p(s=no | f, t) \\cdot p(t|b) \\cdot p(f) \\cdot p(b)} \\tag{43}\n",
    "$$"
   ]
  },
  {
   "cell_type": "markdown",
   "metadata": {},
   "source": [
    "### 5.2 Implement this network using a probabilistic modeling toolbox (e.g., `pgmpy` or `BayesNets.jl`). Use this to verify your derivation and calculations for the previous problem."
   ]
  },
  {
   "cell_type": "code",
   "execution_count": 27,
   "metadata": {},
   "outputs": [
    {
     "name": "stdout",
     "output_type": "stream",
     "text": [
      "Requirement already satisfied: pgmpy in /home/ilkekas/anaconda3/lib/python3.12/site-packages (0.1.26)\n",
      "Requirement already satisfied: networkx in /home/ilkekas/anaconda3/lib/python3.12/site-packages (from pgmpy) (3.3)\n",
      "Requirement already satisfied: numpy in /home/ilkekas/anaconda3/lib/python3.12/site-packages (from pgmpy) (1.26.4)\n",
      "Requirement already satisfied: scipy in /home/ilkekas/anaconda3/lib/python3.12/site-packages (from pgmpy) (1.13.1)\n",
      "Requirement already satisfied: scikit-learn in /home/ilkekas/anaconda3/lib/python3.12/site-packages (from pgmpy) (1.5.1)\n",
      "Requirement already satisfied: pandas in /home/ilkekas/anaconda3/lib/python3.12/site-packages (from pgmpy) (2.2.2)\n",
      "Requirement already satisfied: pyparsing in /home/ilkekas/anaconda3/lib/python3.12/site-packages (from pgmpy) (3.1.2)\n",
      "Requirement already satisfied: torch in /home/ilkekas/anaconda3/lib/python3.12/site-packages (from pgmpy) (2.6.0)\n",
      "Requirement already satisfied: statsmodels in /home/ilkekas/anaconda3/lib/python3.12/site-packages (from pgmpy) (0.14.2)\n",
      "Requirement already satisfied: tqdm in /home/ilkekas/anaconda3/lib/python3.12/site-packages (from pgmpy) (4.66.5)\n",
      "Requirement already satisfied: joblib in /home/ilkekas/anaconda3/lib/python3.12/site-packages (from pgmpy) (1.4.2)\n",
      "Requirement already satisfied: opt-einsum in /home/ilkekas/anaconda3/lib/python3.12/site-packages (from pgmpy) (3.4.0)\n",
      "Requirement already satisfied: xgboost in /home/ilkekas/anaconda3/lib/python3.12/site-packages (from pgmpy) (2.1.4)\n",
      "Requirement already satisfied: google-generativeai in /home/ilkekas/anaconda3/lib/python3.12/site-packages (from pgmpy) (0.8.4)\n",
      "Requirement already satisfied: google-ai-generativelanguage==0.6.15 in /home/ilkekas/anaconda3/lib/python3.12/site-packages (from google-generativeai->pgmpy) (0.6.15)\n",
      "Requirement already satisfied: google-api-core in /home/ilkekas/anaconda3/lib/python3.12/site-packages (from google-generativeai->pgmpy) (2.24.1)\n",
      "Requirement already satisfied: google-api-python-client in /home/ilkekas/anaconda3/lib/python3.12/site-packages (from google-generativeai->pgmpy) (2.161.0)\n",
      "Requirement already satisfied: google-auth>=2.15.0 in /home/ilkekas/anaconda3/lib/python3.12/site-packages (from google-generativeai->pgmpy) (2.38.0)\n",
      "Requirement already satisfied: protobuf in /home/ilkekas/anaconda3/lib/python3.12/site-packages (from google-generativeai->pgmpy) (5.29.3)\n",
      "Requirement already satisfied: pydantic in /home/ilkekas/anaconda3/lib/python3.12/site-packages (from google-generativeai->pgmpy) (2.8.2)\n",
      "Requirement already satisfied: typing-extensions in /home/ilkekas/anaconda3/lib/python3.12/site-packages (from google-generativeai->pgmpy) (4.11.0)\n",
      "Requirement already satisfied: proto-plus<2.0.0dev,>=1.22.3 in /home/ilkekas/anaconda3/lib/python3.12/site-packages (from google-ai-generativelanguage==0.6.15->google-generativeai->pgmpy) (1.26.0)\n",
      "Requirement already satisfied: python-dateutil>=2.8.2 in /home/ilkekas/anaconda3/lib/python3.12/site-packages (from pandas->pgmpy) (2.9.0.post0)\n",
      "Requirement already satisfied: pytz>=2020.1 in /home/ilkekas/anaconda3/lib/python3.12/site-packages (from pandas->pgmpy) (2024.1)\n",
      "Requirement already satisfied: tzdata>=2022.7 in /home/ilkekas/anaconda3/lib/python3.12/site-packages (from pandas->pgmpy) (2023.3)\n",
      "Requirement already satisfied: threadpoolctl>=3.1.0 in /home/ilkekas/anaconda3/lib/python3.12/site-packages (from scikit-learn->pgmpy) (3.5.0)\n",
      "Requirement already satisfied: patsy>=0.5.6 in /home/ilkekas/anaconda3/lib/python3.12/site-packages (from statsmodels->pgmpy) (0.5.6)\n",
      "Requirement already satisfied: packaging>=21.3 in /home/ilkekas/anaconda3/lib/python3.12/site-packages (from statsmodels->pgmpy) (24.1)\n",
      "Requirement already satisfied: filelock in /home/ilkekas/anaconda3/lib/python3.12/site-packages (from torch->pgmpy) (3.13.1)\n",
      "Requirement already satisfied: jinja2 in /home/ilkekas/anaconda3/lib/python3.12/site-packages (from torch->pgmpy) (3.1.4)\n",
      "Requirement already satisfied: fsspec in /home/ilkekas/anaconda3/lib/python3.12/site-packages (from torch->pgmpy) (2024.6.1)\n",
      "Requirement already satisfied: nvidia-cuda-nvrtc-cu12==12.4.127 in /home/ilkekas/anaconda3/lib/python3.12/site-packages (from torch->pgmpy) (12.4.127)\n",
      "Requirement already satisfied: nvidia-cuda-runtime-cu12==12.4.127 in /home/ilkekas/anaconda3/lib/python3.12/site-packages (from torch->pgmpy) (12.4.127)\n",
      "Requirement already satisfied: nvidia-cuda-cupti-cu12==12.4.127 in /home/ilkekas/anaconda3/lib/python3.12/site-packages (from torch->pgmpy) (12.4.127)\n",
      "Requirement already satisfied: nvidia-cudnn-cu12==9.1.0.70 in /home/ilkekas/anaconda3/lib/python3.12/site-packages (from torch->pgmpy) (9.1.0.70)\n",
      "Requirement already satisfied: nvidia-cublas-cu12==12.4.5.8 in /home/ilkekas/anaconda3/lib/python3.12/site-packages (from torch->pgmpy) (12.4.5.8)\n",
      "Requirement already satisfied: nvidia-cufft-cu12==11.2.1.3 in /home/ilkekas/anaconda3/lib/python3.12/site-packages (from torch->pgmpy) (11.2.1.3)\n",
      "Requirement already satisfied: nvidia-curand-cu12==10.3.5.147 in /home/ilkekas/anaconda3/lib/python3.12/site-packages (from torch->pgmpy) (10.3.5.147)\n",
      "Requirement already satisfied: nvidia-cusolver-cu12==11.6.1.9 in /home/ilkekas/anaconda3/lib/python3.12/site-packages (from torch->pgmpy) (11.6.1.9)\n",
      "Requirement already satisfied: nvidia-cusparse-cu12==12.3.1.170 in /home/ilkekas/anaconda3/lib/python3.12/site-packages (from torch->pgmpy) (12.3.1.170)\n",
      "Requirement already satisfied: nvidia-cusparselt-cu12==0.6.2 in /home/ilkekas/anaconda3/lib/python3.12/site-packages (from torch->pgmpy) (0.6.2)\n",
      "Requirement already satisfied: nvidia-nccl-cu12==2.21.5 in /home/ilkekas/anaconda3/lib/python3.12/site-packages (from torch->pgmpy) (2.21.5)\n",
      "Requirement already satisfied: nvidia-nvtx-cu12==12.4.127 in /home/ilkekas/anaconda3/lib/python3.12/site-packages (from torch->pgmpy) (12.4.127)\n",
      "Requirement already satisfied: nvidia-nvjitlink-cu12==12.4.127 in /home/ilkekas/anaconda3/lib/python3.12/site-packages (from torch->pgmpy) (12.4.127)\n",
      "Requirement already satisfied: triton==3.2.0 in /home/ilkekas/anaconda3/lib/python3.12/site-packages (from torch->pgmpy) (3.2.0)\n",
      "Requirement already satisfied: setuptools in /home/ilkekas/anaconda3/lib/python3.12/site-packages (from torch->pgmpy) (75.1.0)\n",
      "Requirement already satisfied: sympy==1.13.1 in /home/ilkekas/anaconda3/lib/python3.12/site-packages (from torch->pgmpy) (1.13.1)\n",
      "Requirement already satisfied: mpmath<1.4,>=1.1.0 in /home/ilkekas/anaconda3/lib/python3.12/site-packages (from sympy==1.13.1->torch->pgmpy) (1.3.0)\n",
      "Requirement already satisfied: googleapis-common-protos<2.0.dev0,>=1.56.2 in /home/ilkekas/anaconda3/lib/python3.12/site-packages (from google-api-core->google-generativeai->pgmpy) (1.67.0)\n",
      "Requirement already satisfied: requests<3.0.0.dev0,>=2.18.0 in /home/ilkekas/anaconda3/lib/python3.12/site-packages (from google-api-core->google-generativeai->pgmpy) (2.32.3)\n",
      "Requirement already satisfied: cachetools<6.0,>=2.0.0 in /home/ilkekas/anaconda3/lib/python3.12/site-packages (from google-auth>=2.15.0->google-generativeai->pgmpy) (5.3.3)\n",
      "Requirement already satisfied: pyasn1-modules>=0.2.1 in /home/ilkekas/anaconda3/lib/python3.12/site-packages (from google-auth>=2.15.0->google-generativeai->pgmpy) (0.2.8)\n",
      "Requirement already satisfied: rsa<5,>=3.1.4 in /home/ilkekas/anaconda3/lib/python3.12/site-packages (from google-auth>=2.15.0->google-generativeai->pgmpy) (4.9)\n",
      "Requirement already satisfied: six in /home/ilkekas/anaconda3/lib/python3.12/site-packages (from patsy>=0.5.6->statsmodels->pgmpy) (1.16.0)\n",
      "Requirement already satisfied: httplib2<1.dev0,>=0.19.0 in /home/ilkekas/anaconda3/lib/python3.12/site-packages (from google-api-python-client->google-generativeai->pgmpy) (0.22.0)\n",
      "Requirement already satisfied: google-auth-httplib2<1.0.0,>=0.2.0 in /home/ilkekas/anaconda3/lib/python3.12/site-packages (from google-api-python-client->google-generativeai->pgmpy) (0.2.0)\n",
      "Requirement already satisfied: uritemplate<5,>=3.0.1 in /home/ilkekas/anaconda3/lib/python3.12/site-packages (from google-api-python-client->google-generativeai->pgmpy) (4.1.1)\n",
      "Requirement already satisfied: MarkupSafe>=2.0 in /home/ilkekas/anaconda3/lib/python3.12/site-packages (from jinja2->torch->pgmpy) (2.1.3)\n",
      "Requirement already satisfied: annotated-types>=0.4.0 in /home/ilkekas/anaconda3/lib/python3.12/site-packages (from pydantic->google-generativeai->pgmpy) (0.6.0)\n",
      "Requirement already satisfied: pydantic-core==2.20.1 in /home/ilkekas/anaconda3/lib/python3.12/site-packages (from pydantic->google-generativeai->pgmpy) (2.20.1)\n",
      "Requirement already satisfied: grpcio<2.0dev,>=1.33.2 in /home/ilkekas/anaconda3/lib/python3.12/site-packages (from google-api-core[grpc]!=2.0.*,!=2.1.*,!=2.10.*,!=2.2.*,!=2.3.*,!=2.4.*,!=2.5.*,!=2.6.*,!=2.7.*,!=2.8.*,!=2.9.*,<3.0.0dev,>=1.34.1->google-ai-generativelanguage==0.6.15->google-generativeai->pgmpy) (1.70.0)\n",
      "Requirement already satisfied: grpcio-status<2.0.dev0,>=1.33.2 in /home/ilkekas/anaconda3/lib/python3.12/site-packages (from google-api-core[grpc]!=2.0.*,!=2.1.*,!=2.10.*,!=2.2.*,!=2.3.*,!=2.4.*,!=2.5.*,!=2.6.*,!=2.7.*,!=2.8.*,!=2.9.*,<3.0.0dev,>=1.34.1->google-ai-generativelanguage==0.6.15->google-generativeai->pgmpy) (1.70.0)\n",
      "Requirement already satisfied: pyasn1<0.5.0,>=0.4.6 in /home/ilkekas/anaconda3/lib/python3.12/site-packages (from pyasn1-modules>=0.2.1->google-auth>=2.15.0->google-generativeai->pgmpy) (0.4.8)\n",
      "Requirement already satisfied: charset-normalizer<4,>=2 in /home/ilkekas/anaconda3/lib/python3.12/site-packages (from requests<3.0.0.dev0,>=2.18.0->google-api-core->google-generativeai->pgmpy) (3.3.2)\n",
      "Requirement already satisfied: idna<4,>=2.5 in /home/ilkekas/anaconda3/lib/python3.12/site-packages (from requests<3.0.0.dev0,>=2.18.0->google-api-core->google-generativeai->pgmpy) (3.7)\n",
      "Requirement already satisfied: urllib3<3,>=1.21.1 in /home/ilkekas/anaconda3/lib/python3.12/site-packages (from requests<3.0.0.dev0,>=2.18.0->google-api-core->google-generativeai->pgmpy) (2.2.3)\n",
      "Requirement already satisfied: certifi>=2017.4.17 in /home/ilkekas/anaconda3/lib/python3.12/site-packages (from requests<3.0.0.dev0,>=2.18.0->google-api-core->google-generativeai->pgmpy) (2024.12.14)\n",
      "Collecting ace-tools\n",
      "  Downloading ace_tools-0.0-py3-none-any.whl.metadata (300 bytes)\n",
      "Downloading ace_tools-0.0-py3-none-any.whl (1.1 kB)\n",
      "Installing collected packages: ace-tools\n",
      "Successfully installed ace-tools-0.0\n"
     ]
    }
   ],
   "source": [
    "! pip install pgmpy\n",
    "! pip install ace-tools"
   ]
  },
  {
   "cell_type": "code",
   "execution_count": 169,
   "metadata": {},
   "outputs": [],
   "source": [
    "from pgmpy.models import BayesianNetwork\n",
    "from pgmpy.factors.discrete import TabularCpD\n",
    "from pgmpy.inference import VariableElimination\n",
    "\n",
    "# define the Bayesian Network structure -add the arrows \n",
    "model = BayesianNetwork([\n",
    "    ('battery', 'gauge'),\n",
    "    ('fuel', 'gauge'),\n",
    "    ('battery', 'turns_over'),\n",
    "    ('turns_over', 'starts'),\n",
    "    ('fuel', 'starts')\n",
    "])\n",
    "\n",
    "\n",
    "cpd_battery = TabularCpD(variable='battery', variable_card=2, values=[[0.98], [0.02]], state_names={'battery': ['good', 'bad']})\n",
    "\n",
    "cpd_fuel = TabularCpD(variable='fuel', variable_card=2, values=[[0.95], [0.05]], state_names={'fuel': ['not_empty', 'empty']})\n",
    "\n",
    "cpd_gauge = TabularCpD(variable='gauge', variable_card=2,\n",
    "    values=[\n",
    "        [1 - 0.04, 1 - 0.97, 1 - 0.1, 1 - 0.99],\n",
    "        [0.04, 0.97, 0.1, 0.99]\n",
    "    ],\n",
    "    evidence=['battery', 'fuel'],\n",
    "    evidence_card=[2, 2],\n",
    "    state_names={'gauge': ['not_empty', 'empty'], 'battery': ['good', 'bad'], 'fuel': ['not_empty', 'empty']}\n",
    ")\n",
    "\n",
    "cpd_turns_over = TabularCpD(variable='turns_over', variable_card=2,\n",
    "    values=[\n",
    "        [1 - 0.03, 1 - 0.98],\n",
    "        [0.03, 0.98]\n",
    "    ],\n",
    "    evidence=['battery'],\n",
    "    evidence_card=[2],\n",
    "    state_names={'turns_over': ['tr', 'fa'], 'battery': ['good', 'bad']}\n",
    ")\n",
    "\n",
    "cpd_starts = TabularCpD(variable='starts', variable_card=2,\n",
    "    values=[\n",
    "        [1 - 0.01, 1 - 0.92, 1 - 1.0, 1 - 0.99],\n",
    "        [0.01, 0.92, 1.0, 0.99]\n",
    "    ],\n",
    "    evidence=['turns_over', 'fuel'],\n",
    "    evidence_card=[2, 2],\n",
    "    state_names={'starts': ['tr', 'fa'], 'turns_over': ['tr', 'fa'], 'fuel': ['not_empty', 'empty']}\n",
    ")\n",
    "\n",
    "\n",
    "model.add_cpds(cpd_battery, cpd_fuel, cpd_gauge, cpd_turns_over, cpd_starts)\n",
    "assert model.check_model()\n"
   ]
  },
  {
   "cell_type": "code",
   "execution_count": 171,
   "metadata": {
    "scrolled": true
   },
   "outputs": [
    {
     "name": "stdout",
     "output_type": "stream",
     "text": [
      "+-----------------+-------------+\n",
      "| fuel            |   phi(fuel) |\n",
      "+=================+=============+\n",
      "| fuel(not_empty) |      0.5463 |\n",
      "+-----------------+-------------+\n",
      "| fuel(empty)     |      0.4537 |\n",
      "+-----------------+-------------+\n"
     ]
    }
   ],
   "source": [
    "# perform inference\n",
    "inference = VariableElimination(model)\n",
    "#result = inference.query(variables=['fuel']) # check whether you define the model correctly\n",
    "result = inference.query(variables=['fuel'], evidence={'starts': 'fa'})\n",
    "print(result)\n"
   ]
  },
  {
   "cell_type": "markdown",
   "metadata": {},
   "source": [
    "### 5.3 Suppose you have loaned this car to a friend. They call and announce, \"the car won't start.\" Illustrate your diagnostic and inference process using the model to show how your beliefs change as you ask questions. Your friend can only tell you the states of $t$ and $g$ (and you already know $s$). Use two different scenarios (i.e., two different reasons why the car won't start). For each scenario, discuss your choice of each question you pose to the network, and how it allows you to uncover the true cause of the problem."
   ]
  },
  {
   "cell_type": "markdown",
   "metadata": {},
   "source": [
    "#### 5.3 Solution\n",
    "Since we already know the three variable values from this model, we need to consider two other variables:\n",
    "\n",
    "- Battery can be bad, or\n",
    "- Out of Fuel\n",
    "\n",
    "First, I would ask my friend whether the engine turns over. If it does, it is most likely due to being out of fuel, not a dead battery. If it does not turn over, it is probably a battery problem. I would ask about the engine turning over first, since it is directly related to the battery but not to the fuel. Based on the response, I would create two scenarios:\n",
    "\n",
    "1. **Out of Fuel:** If the engine turns over, I would ask about the gauge, since it has a cause-effect relationship with fuel. If the gauge says empty, I would assume the car is not starting due to being out of fuel. Otherwise, with a smaller probability, I would assume it is because the battery is bad, but not totally dead.\n",
    "2. **Bad Battery:** If the engine does not turn over, I would think it is because the battery is bad or dead, since it has an indirect effect on starting. To confirm, I would ask about the gauge. If the gauge says not empty, I would assume the car is not starting due to the battery."
   ]
  },
  {
   "cell_type": "code",
   "execution_count": null,
   "metadata": {},
   "outputs": [],
   "source": []
  }
 ],
 "metadata": {
  "@webio": {
   "lastCommId": null,
   "lastKernelId": null
  },
  "kernelspec": {
   "display_name": "Python [conda env:base] *",
   "language": "python",
   "name": "conda-base-py"
  },
  "language_info": {
   "codemirror_mode": {
    "name": "ipython",
    "version": 3
   },
   "file_extension": ".py",
   "mimetype": "text/x-python",
   "name": "python",
   "nbconvert_exporter": "python",
   "pygments_lexer": "ipython3",
   "version": "3.12.7"
  }
 },
 "nbformat": 4,
 "nbformat_minor": 4
}
